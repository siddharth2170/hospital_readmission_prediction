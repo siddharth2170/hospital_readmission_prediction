{
 "cells": [
  {
   "cell_type": "code",
   "execution_count": null,
   "id": "4dea9874",
   "metadata": {
    "vscode": {
     "languageId": "plaintext"
    }
   },
   "outputs": [],
   "source": [
    "# Exploratory Data Analysis (EDA) for Hospital Readmission Dataset\n",
    "\n",
    "import pandas as pd\n",
    "import matplotlib.pyplot as plt\n",
    "import seaborn as sns\n",
    "\n",
    "# Load dataset\n",
    "df = pd.read_csv(\"../data/diabetes_data.csv\")\n",
    "\n",
    "# -------------------------------\n",
    "# 1. Basic Info\n",
    "# -------------------------------\n",
    "print(\"Shape of dataset:\", df.shape)\n",
    "print(\"\\nColumns:\\n\", df.columns.tolist())\n",
    "print(\"\\nData types:\\n\", df.dtypes)\n",
    "print(\"\\nFirst 5 rows:\\n\", df.head())\n",
    "\n",
    "# -------------------------------\n",
    "# 2. Target Variable Distribution\n",
    "# -------------------------------\n",
    "plt.figure(figsize=(6,4))\n",
    "sns.countplot(x=\"readmitted\", data=df)\n",
    "plt.title(\"Distribution of Readmissions\")\n",
    "plt.xlabel(\"Readmitted (Yes/No)\")\n",
    "plt.ylabel(\"Count\")\n",
    "plt.show()\n",
    "\n",
    "print(df['readmitted'].value_counts(normalize=True))\n",
    "\n",
    "# -------------------------------\n",
    "# 3. Missing Values\n",
    "# -------------------------------\n",
    "missing = df.isnull().sum()\n",
    "missing = missing[missing > 0].sort_values(ascending=False)\n",
    "print(\"\\nMissing Values:\\n\", missing)\n",
    "\n",
    "plt.figure(figsize=(8,4))\n",
    "sns.barplot(x=missing.index, y=missing.values)\n",
    "plt.xticks(rotation=90)\n",
    "plt.title(\"Missing Values per Column\")\n",
    "plt.show()\n",
    "\n",
    "# -------------------------------\n",
    "# 4. Correlation Heatmap\n",
    "# -------------------------------\n",
    "plt.figure(figsize=(12,8))\n",
    "sns.heatmap(df.corr(), cmap=\"coolwarm\", center=0)\n",
    "plt.title(\"Correlation Heatmap (Numerical Features)\")\n",
    "plt.show()\n",
    "\n",
    "# -------------------------------\n",
    "# 5. Feature Distributions\n",
    "# -------------------------------\n",
    "num_cols = df.select_dtypes(include=['int64','float64']).columns\n",
    "df[num_cols].hist(bins=30, figsize=(15,12))\n",
    "plt.suptitle(\"Feature Distributions\", fontsize=16)\n",
    "plt.show()\n"
   ]
  }
 ],
 "metadata": {
  "language_info": {
   "name": "python"
  }
 },
 "nbformat": 4,
 "nbformat_minor": 5
}
